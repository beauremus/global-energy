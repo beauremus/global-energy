{
 "cells": [
  {
   "cell_type": "code",
   "execution_count": 2,
   "metadata": {
    "collapsed": true
   },
   "outputs": [],
   "source": [
    "# Imports\n",
    "%matplotlib inline\n",
    "import pandas as pd"
   ]
  },
  {
   "cell_type": "code",
   "execution_count": 3,
   "metadata": {
    "collapsed": true
   },
   "outputs": [],
   "source": [
    "#Consts\n",
    "MAX_C_PERMIT = 2600\n",
    "COST_OVER = 100"
   ]
  },
  {
   "cell_type": "code",
   "execution_count": 4,
   "metadata": {
    "collapsed": true
   },
   "outputs": [],
   "source": [
    "pps = pd.read_csv('power_plants.csv', usecols=['portfolio', 'plant', 'mw', 'fuelcost', 'varom', 'carbon'])\n",
    "pps['mc'] = pps['fuelcost'] + pps['varom']\n",
    "pps['c_per_day'] = pps['mw'] * pps['carbon'] * 24"
   ]
  },
  {
   "cell_type": "code",
   "execution_count": 6,
   "metadata": {
    "collapsed": false
   },
   "outputs": [
    {
     "name": "stdout",
     "output_type": "stream",
     "text": [
      "                mw  fuelcost  varom  carbon     mc  c_per_day  port_size  \\\n",
      "portfolio                                                                  \n",
      "Big_Coal      3900     195.5    9.0    2.65  204.5    43128.0         36   \n",
      "Big_Gas       3600     259.0    5.5    3.04  264.5    32940.0         49   \n",
      "East_Bay      3000     209.0    3.0    2.46  212.0    26856.0         36   \n",
      "Beachfront    3800     265.0    8.0    3.13  273.0    32556.0         64   \n",
      "Bay_Views     2650     136.5    4.5    1.60  141.0    17920.8         25   \n",
      "Old_Timers    2750     101.0   10.0    1.78  111.0    19416.0         25   \n",
      "Fossil_Light  2350     124.5    8.0    1.38  132.5     6432.0         25   \n",
      "\n",
      "              permit_share  excess_carbon  excess_mc  new_mc      avg_mc  \\\n",
      "portfolio                                                                  \n",
      "Big_Coal            2600.0        40528.0      265.0   469.5  420.357143   \n",
      "Big_Gas             2600.0        30340.0      304.0   568.5  490.416667   \n",
      "East_Bay            2600.0        24256.0      246.0   458.0  420.357143   \n",
      "Beachfront          2600.0        29956.0      313.0   586.0  560.476190   \n",
      "Bay_Views           2600.0        15320.8      160.0   301.0  350.297619   \n",
      "Old_Timers          2600.0        16816.0      178.0   289.0  350.297619   \n",
      "Fossil_Light        2600.0         3832.0      138.0   270.5  350.297619   \n",
      "\n",
      "                   revenue        profit  \n",
      "portfolio                                 \n",
      "Big_Coal      4.371714e+06 -1.490857e+05  \n",
      "Big_Gas       4.035429e+06 -7.657143e+04  \n",
      "East_Bay      3.362857e+06  2.445714e+04  \n",
      "Beachfront    4.259619e+06  2.036190e+05  \n",
      "Bay_Views     2.970524e+06  7.057638e+05  \n",
      "Old_Timers    3.082619e+06  1.177419e+06  \n",
      "Fossil_Light  2.634238e+06  1.641038e+06  \n",
      "    portfolio           plant   mw  fuelcost  varom  carbon    mc  c_per_day  \\\n",
      "13  Bay_Views   MORRO_BAY_1-2  335      26.5    0.5    0.31  27.0     2492.4   \n",
      "14  Bay_Views   MORRO_BAY_3-4  665      25.0    0.5    0.29  25.5     4628.4   \n",
      "15  Bay_Views  MOSS_LANDING_6  750      21.5    1.5    0.25  23.0     4500.0   \n",
      "16  Bay_Views  MOSS_LANDING_7  750      21.5    1.5    0.25  23.0     4500.0   \n",
      "17  Bay_Views         OAKLAND  150      42.0    0.5    0.50  42.5     1800.0   \n",
      "\n",
      "    port_size  permit_share  excess_carbon  excess_mc  new_mc     avg_mc  \\\n",
      "13          5         520.0         1972.4       31.0    58.0  70.059524   \n",
      "14          5         520.0         4108.4       29.0    54.5  70.059524   \n",
      "15          5         520.0         3980.0       25.0    48.0  70.059524   \n",
      "16          5         520.0         3980.0       25.0    48.0  70.059524   \n",
      "17          5         520.0         1280.0       50.0    92.5  70.059524   \n",
      "\n",
      "          revenue         profit  \n",
      "13  375519.047619   64639.047619  \n",
      "14  745433.333333  165553.333333  \n",
      "15  840714.285714  264714.285714  \n",
      "16  840714.285714  264714.285714  \n",
      "17  168142.857143  -53857.142857  \n"
     ]
    }
   ],
   "source": [
    "#Tests\n",
    "pps_sum = pps.groupby('portfolio').sum()\n",
    "pps_sum['carbon_diff'] = pps_sum['c_per_day'] - MAX_C_PERMIT\n",
    "pps_sum['diff_cost'] = pps_sum['carbon_diff'] * COST_OVER\n",
    "\n",
    "pps['port_size'] = [6,6,6,6,6,6,7,7,7,7,7,7,7,5,5,5,5,5,8,8,8,8,8,8,8,8,6,6,6,6,6,6,5,5,5,5,5,5,5,5,5,5]\n",
    "pps['permit_share'] = MAX_C_PERMIT / pps['port_size']\n",
    "pps['excess_carbon'] = pps['c_per_day'] - pps['permit_share']\n",
    "pps['excess_mc'] = pps['carbon'] * COST_OVER\n",
    "pps['new_mc'] = pps['mc'] + pps['excess_mc']\n",
    "pps['avg_mc'] = pps['new_mc'].mean()\n",
    "pps['revenue'] = pps['mw'] * 16 * pps['avg_mc']\n",
    "pps['profit'] = pps['revenue'] - (pps['new_mc'] * pps['mw'] * 16)\n",
    "print(pps.groupby('portfolio').sum().sort_values(by='profit'))\n",
    "print(pps[pps['portfolio'] == 'Bay_Views'])"
   ]
  },
  {
   "cell_type": "code",
   "execution_count": 10,
   "metadata": {
    "collapsed": false
   },
   "outputs": [
    {
     "data": {
      "text/plain": [
       "26.682692307692307"
      ]
   },
     "execution_count": 10,
     "metadata": {},
     "output_type": "execute_result"
    }
   ],
   "source": [
    "#Outputs\n",
    "(92.5*150)/520"
   ]
  }
 ],
 "metadata": {
  "kernelspec": {
   "display_name": "Python [Root]",
   "language": "python",
   "name": "Python [Root]"
  },
  "language_info": {
   "codemirror_mode": {
    "name": "ipython",
    "version": 3
   },
   "file_extension": ".py",
   "mimetype": "text/x-python",
   "name": "python",
   "nbconvert_exporter": "python",
   "pygments_lexer": "ipython3",
   "version": "3.5.2"
  }
 },
 "nbformat": 4,
 "nbformat_minor": 0
}
