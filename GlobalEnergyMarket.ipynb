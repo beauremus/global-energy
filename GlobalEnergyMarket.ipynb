{
 "cells": [
  {
   "cell_type": "code",
   "execution_count": 1,
   "metadata": {
    "collapsed": false
   },
   "outputs": [],
   "source": [
    "# Imports\n",
    "import csv\n",
    "import matplotlib.pyplot as plt\n",
    "%matplotlib inline\n",
    "import numpy as np"
   ]
  },
  {
   "cell_type": "code",
   "execution_count": 2,
   "metadata": {
    "collapsed": false
   },
   "outputs": [],
   "source": [
    "# Initialize variables\n",
    "header = ['portfolio', 'mw', 'fuelcost', 'varom', 'fixom', 'capcost', 'marginprice', 'plant']\n",
    "result = []\n",
    "colors = []\n",
    "x_axis = [0]"
   ]
  },
  {
   "cell_type": "code",
   "execution_count": 3,
   "metadata": {
    "collapsed": false
   },
   "outputs": [
    {
     "name": "stdout",
     "output_type": "stream",
     "text": [
      "['Big_Coal', '1900', '17.5', '1.5', '2000', 38100.0, '20.05', 'FOUR_CORNERS'] ['Old_Timers', '750', '15', '4.5', '3750', 18375.0, '24.50', 'MOHAVE_1']\n",
      "['Big_Coal', '300', '27', '1.5', '500', 9050.0, '30.17', 'HUNTINGTON_BEACH_1-2'] ['Beachfront', '650', '29', '0.5', '500', 19675.0, '30.27', 'COOLWATER']\n",
      "['Big_Coal', '950', '28', '1.5', '1250', 29275.0, '30.82', 'REDONDO_7-8'] ['Big_Gas', '700', '30', '0.5', '500', 21850.0, '31.21', 'SOUTH_BAY']\n",
      "['Big_Coal', '350', '28', '1.5', '750', 11075.0, '31.64', 'REDONDO_5-6'] ['Big_Gas', '400', '30', '1.5', '250', 12850.0, '32.12', 'EL_SEGUNDO_1-2']\n",
      "['Big_Coal', '150', '45', '1.5', '500', 7475.0, '49.83', 'HUNTINGTON_BEACH_5'] ['Big_Coal', '250', '50', '1.5', '0', 12875.0, '51.50', 'ALAMITOS_7']\n",
      "['Big_Coal', '250', '50', '1.5', '0', 12875.0, '51.50', 'ALAMITOS_7'] ['Beachfront', '300', '52', '0.5', '0', 15750.0, '52.50', 'ELLWOOD']\n"
     ]
    }
   ],
   "source": [
    "# MAIN\n",
    "with open('power_plants.csv') as raw:\n",
    "    temp = []\n",
    "    data = csv.reader(raw)\n",
    "    next(data) # Skips header row\n",
    "    for datum in data:\n",
    "        max_cost = float(datum[6])+(float(datum[5])*float(datum[3]))+(float(datum[4])*float(datum[3]))\n",
    "        margin_price = '{0:.2f}'.format(round(max_cost/float(datum[3]),2))\n",
    "        temp.append([datum[0], datum[3], datum[4], datum[5], datum[6], max_cost, margin_price, datum[1]])\n",
    "    result = sorted(temp, key=lambda x: float(x[6]) ) \n",
    "\n",
    "for plant in result:\n",
    "    if plant[0] == 'Big_Coal':\n",
    "        colors.append('r')\n",
    "        if plant != result[-1]:\n",
    "            print(plant, result[result.index(plant) + 1])\n",
    "    else:\n",
    "        colors.append('b')\n",
    "\n",
    "for plant in result:\n",
    "    if plant == result[-1]: break\n",
    "    if len(x_axis) == 0:\n",
    "        x_axis.append(int(plant[1]))\n",
    "    else:\n",
    "        x_axis.append(int(plant[1]) + x_axis[-1])"
   ]
  },
  {
   "cell_type": "code",
   "execution_count": 4,
   "metadata": {
    "collapsed": false,
    "scrolled": true
   },
   "outputs": [
    {
     "name": "stdout",
     "output_type": "stream",
     "text": [
      "['portfolio', 'mw', 'fuelcost', 'varom', 'fixom', 'capcost', 'marginprice', 'plant']\n",
      "['Old_Timers', '1000', '0', '0', '3750', 3750.0, '3.75', 'BIG_CREEK']\n",
      "['Fossil_Light', '800', '0', '0.5', '3750', 4150.0, '5.19', 'HELMS']\n",
      "['Fossil_Light', '1000', '7.5', '4', '5000', 16500.0, '16.50', 'DIABLO_CANYON_1']\n",
      "['Big_Coal', '1900', '17.5', '1.5', '2000', 38100.0, '20.05', 'FOUR_CORNERS']\n",
      "['Old_Timers', '750', '15', '4.5', '3750', 18375.0, '24.50', 'MOHAVE_1']\n",
      "['Old_Timers', '750', '15', '4.5', '3750', 18375.0, '24.50', 'MOHAVE_2']\n",
      "['Bay_Views', '750', '21.5', '1.5', '2000', 19250.0, '25.67', 'MOSS_LANDING_6']\n",
      "['Bay_Views', '750', '21.5', '1.5', '2000', 19250.0, '25.67', 'MOSS_LANDING_7']\n",
      "['East_Bay', '650', '25', '0.5', '625', 17200.0, '26.46', 'PITTSBURGH_5-6']\n",
      "['Bay_Views', '665', '25', '0.5', '1000', 17957.5, '27.00', 'MORRO_BAY_3-4']\n",
      "['Beachfront', '300', '26', '1.5', '250', 8500.0, '28.33', 'MANDALAY_1-2']\n",
      "['Bay_Views', '335', '26.5', '0.5', '500', 9545.0, '28.49', 'MORRO_BAY_1-2']\n",
      "['Beachfront', '700', '26', '0.5', '1750', 20300.0, '29.00', 'ORMOND_BEACH_1']\n",
      "['Beachfront', '700', '26', '0.5', '1750', 20300.0, '29.00', 'ORMOND_BEACH_2']\n",
      "['Big_Gas', '650', '27.5', '1.5', '250', 19100.0, '29.38', 'EL_SEGUNDO_3-4']\n",
      "['East_Bay', '650', '28', '0.5', '625', 19150.0, '29.46', 'PITTSBURGH_1-4']\n",
      "['Big_Gas', '950', '28.5', '0.5', '500', 28050.0, '29.53', 'ENCINA']\n",
      "['East_Bay', '700', '27', '0.5', '1500', 20750.0, '29.64', 'CONTRA_COSTA_6-7']\n",
      "['Big_Coal', '300', '27', '1.5', '500', 9050.0, '30.17', 'HUNTINGTON_BEACH_1-2']\n",
      "['Beachfront', '650', '29', '0.5', '500', 19675.0, '30.27', 'COOLWATER']\n",
      "['Big_Coal', '950', '28', '1.5', '1250', 29275.0, '30.82', 'REDONDO_7-8']\n",
      "['Big_Gas', '700', '30', '0.5', '500', 21850.0, '31.21', 'SOUTH_BAY']\n",
      "['Big_Coal', '350', '28', '1.5', '750', 11075.0, '31.64', 'REDONDO_5-6']\n",
      "['Big_Gas', '400', '30', '1.5', '250', 12850.0, '32.12', 'EL_SEGUNDO_1-2']\n",
      "['Beachfront', '850', '28.5', '1.5', '2000', 27500.0, '32.35', 'ETIWANDA_1-4']\n",
      "['Fossil_Light', '150', '32.5', '0.5', '0', 4950.0, '33.00', 'HUMBOLDT']\n",
      "['Old_Timers', '150', '34', '0.5', '0', 5175.0, '34.50', 'HIGHGROVE']\n",
      "['Fossil_Light', '150', '33', '1.5', '250', 5425.0, '36.17', 'HUNTERS_POINT_1-2']\n",
      "['Big_Gas', '550', '36', '0.5', '500', 20575.0, '37.41', 'LONG_BEACH']\n",
      "['Old_Timers', '100', '37', '0.5', '0', 3750.0, '37.50', 'SAN_BERNADINO']\n",
      "['Beachfront', '150', '35', '1.5', '250', 5725.0, '38.17', 'MANDALAY_3']\n",
      "['East_Bay', '150', '40', '0.5', '250', 6325.0, '42.17', 'CONTRA_COSTA_4-5']\n",
      "['Bay_Views', '150', '42', '0.5', '0', 6375.0, '42.50', 'OAKLAND']\n",
      "['East_Bay', '700', '41', '0.5', '1000', 30050.0, '42.93', 'PITTSBURGH_7']\n",
      "['Big_Gas', '150', '45', '0.5', '0', 6825.0, '45.50', 'NORTH_ISLAND']\n",
      "['Beachfront', '150', '42.5', '1.5', '250', 6850.0, '45.67', 'ETIWANDA_5']\n",
      "['East_Bay', '150', '48', '0.5', '0', 7275.0, '48.50', 'POTRERO_HILL']\n",
      "['Big_Coal', '150', '45', '1.5', '500', 7475.0, '49.83', 'HUNTINGTON_BEACH_5']\n",
      "['Big_Coal', '250', '50', '1.5', '0', 12875.0, '51.50', 'ALAMITOS_7']\n",
      "['Beachfront', '300', '52', '0.5', '0', 15750.0, '52.50', 'ELLWOOD']\n",
      "['Fossil_Light', '250', '51.5', '1.5', '250', 13500.0, '54.00', 'HUNTERS_POINT_4']\n",
      "['Big_Gas', '200', '62', '0.5', '0', 12500.0, '62.50', 'KEARNY']\n"
     ]
    }
   ],
   "source": [
    "# Outputs\n",
    "print(header)\n",
    "for plant in result: print(plant)"
   ]
  },
  {
   "cell_type": "code",
   "execution_count": 13,
   "metadata": {
    "collapsed": false
   },
   "outputs": [
    {
     "data": {
      "image/png": "[encoded data removed]",
      "text/plain": [
       "<matplotlib.figure.Figure at 0x7f25ef68f4a8>"
      ]
     },
     "metadata": {},
     "output_type": "display_data"
    }
   ],
   "source": [
    "# Plots\n",
    "fig = plt.figure()\n",
    "ax = fig.gca()\n",
    "ax.set_ylim(0, 70)\n",
    "ax.set_xlim(0, 22500)\n",
    "\n",
    "y_axis = [float(plant[6]) for plant in result]\n",
    "x = range(6000)\n",
    "y1 = []\n",
    "y2 = []\n",
    "y3 = []\n",
    "\n",
    "for i in x:\n",
    "    y = (-2 * i + (4020 + 7035))\n",
    "    y1.append(y)\n",
    "        \n",
    "for i in x:\n",
    "    y = (-2 * i + (4020 + 7035 * 1.03))\n",
    "    y2.append(y)\n",
    "\n",
    "for i in x:\n",
    "    y = (-2 * i + (4020 + 7035 * .97))\n",
    "    y3.append(y)\n",
    "\n",
    "ax.bar(x_axis, y_axis, width=[int(plant[1]) for plant in result], color=colors, alpha=0.5)\n",
    "ax.plot(x, y1)\n",
    "ax.plot(x, y2)\n",
    "ax.plot(x, y3)\n",
    "\n",
    "plt.ylabel('Full Capacity Cost')\n",
    "plt.title('Market Capacity Costs')\n",
    " \n",
    "plt.show()"
   ]
  }
 ],
 "metadata": {
  "anaconda-cloud": {},
  "kernelspec": {
   "display_name": "Python [Root]",
   "language": "python",
   "name": "Python [Root]"
  },
  "language_info": {
   "codemirror_mode": {
    "name": "ipython",
    "version": 3
   },
   "file_extension": ".py",
   "mimetype": "text/x-python",
   "name": "python",
   "nbconvert_exporter": "python",
   "pygments_lexer": "ipython3",
   "version": "3.5.2"
  }
 },
 "nbformat": 4,
 "nbformat_minor": 0
}
